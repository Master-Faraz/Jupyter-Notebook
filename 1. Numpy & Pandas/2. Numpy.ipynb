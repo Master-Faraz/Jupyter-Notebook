{
 "cells": [
  {
   "cell_type": "markdown",
   "metadata": {},
   "source": [
    "# *Numpy*"
   ]
  },
  {
   "cell_type": "code",
   "execution_count": 1,
   "metadata": {},
   "outputs": [],
   "source": [
    "import numpy as np\n"
   ]
  },
  {
   "cell_type": "code",
   "execution_count": 2,
   "metadata": {},
   "outputs": [
    {
     "name": "stdout",
     "output_type": "stream",
     "text": [
      "1\n",
      "int64\n"
     ]
    }
   ],
   "source": [
    "arr = np.array([1, 2, 3, 4, 5, 6, 7, 8, 9, 10], np.int64)\n",
    "\n",
    "\n",
    "print(arr[0])\n",
    "print(arr.dtype)\n",
    "\n"
   ]
  },
  {
   "cell_type": "markdown",
   "metadata": {},
   "source": [
    "\n",
    "\n",
    "## ***np.int64 is dtype of our array  -->  By Default it is int32     ,     np.int64 is optional***            \n",
    "        \n",
    "\n",
    "\n"
   ]
  },
  {
   "cell_type": "code",
   "execution_count": 3,
   "metadata": {},
   "outputs": [
    {
     "name": "stdout",
     "output_type": "stream",
     "text": [
      "(3, 3)\n",
      "int64\n"
     ]
    }
   ],
   "source": [
    "arr_2D = np.array([[1, 2, 3], [3, 4, 5], [5, 6, 7]])  # 2D Array\n",
    "\n",
    "print(arr_2D.shape)     #    Shape will return Dimension of array\n",
    "print(arr_2D.dtype)"
   ]
  },
  {
   "cell_type": "markdown",
   "metadata": {},
   "source": [
    "## ***np.zeros((2,5))  -->   Create an array of size (2,5) and initialize it with zeros   ,    dtype -> float64***"
   ]
  },
  {
   "cell_type": "code",
   "execution_count": 4,
   "metadata": {},
   "outputs": [
    {
     "name": "stdout",
     "output_type": "stream",
     "text": [
      "[[0 0 0 0 0]\n",
      " [0 0 0 0 0]]\n",
      "(2, 5)\n",
      "int64\n",
      "10\n"
     ]
    }
   ],
   "source": [
    "arr_zero = np.zeros((2, 5),np.int64)\n",
    "\n",
    "print(arr_zero)\n",
    "print(arr_zero.shape)  #  2,5\n",
    "print(arr_zero.dtype)  # float64 is default\n",
    "print(arr_zero.size)   # 10"
   ]
  },
  {
   "cell_type": "markdown",
   "metadata": {},
   "source": [
    "## ***np.arange(15)  -->   Create an array of size 15 and initialize it with int (0~14)   ,    dtype -> int64***\n"
   ]
  },
  {
   "cell_type": "code",
   "execution_count": 5,
   "metadata": {},
   "outputs": [
    {
     "name": "stdout",
     "output_type": "stream",
     "text": [
      "[ 0  1  2  3  4  5  6  7  8  9 10 11 12 13 14]\n",
      "int64\n"
     ]
    }
   ],
   "source": [
    "arr_range = np.arange(15)\n",
    "\n",
    "print(arr_range)  # 0~14\n",
    "print(arr_range.dtype)   # Int 64"
   ]
  },
  {
   "cell_type": "markdown",
   "metadata": {},
   "source": [
    "## ***np.linspace(1, 20, 35)  -->   Create an array of size 35 initialize number btw (1~20) in equal space    ,    dtype -> float64***"
   ]
  },
  {
   "cell_type": "code",
   "execution_count": 6,
   "metadata": {},
   "outputs": [
    {
     "name": "stdout",
     "output_type": "stream",
     "text": [
      "[ 1.          1.55882353  2.11764706  2.67647059  3.23529412  3.79411765\n",
      "  4.35294118  4.91176471  5.47058824  6.02941176  6.58823529  7.14705882\n",
      "  7.70588235  8.26470588  8.82352941  9.38235294  9.94117647 10.5\n",
      " 11.05882353 11.61764706 12.17647059 12.73529412 13.29411765 13.85294118\n",
      " 14.41176471 14.97058824 15.52941176 16.08823529 16.64705882 17.20588235\n",
      " 17.76470588 18.32352941 18.88235294 19.44117647 20.        ]\n",
      "float64\n",
      "35\n"
     ]
    }
   ],
   "source": [
    "arr_line = np.linspace(1, 20, 35)     #   35 values \n",
    "\n",
    "print(arr_line)\n",
    "print(arr_line.dtype)   # Float64\n",
    "print(arr_line.size)   # 35"
   ]
  },
  {
   "cell_type": "markdown",
   "metadata": {},
   "source": [
    "## ***np.empty((4, 6))  -->   Create an 2d-array and initialize it with garbage value   ,    dtype -> float64***"
   ]
  },
  {
   "cell_type": "code",
   "execution_count": 7,
   "metadata": {
    "scrolled": true
   },
   "outputs": [
    {
     "name": "stdout",
     "output_type": "stream",
     "text": [
      "[[4.64003473e-310 0.00000000e+000 6.93131217e-310 6.93131221e-310\n",
      "  6.93131221e-310 6.93131221e-310]\n",
      " [6.93131221e-310 6.93131157e-310 6.93131221e-310 6.93131221e-310\n",
      "  6.93131078e-310 6.93131222e-310]\n",
      " [6.93131222e-310 6.93131222e-310 6.93131219e-310 0.00000000e+000\n",
      "  0.00000000e+000 0.00000000e+000]\n",
      " [0.00000000e+000 0.00000000e+000 0.00000000e+000 0.00000000e+000\n",
      "  0.00000000e+000 0.00000000e+000]]\n",
      "float64\n"
     ]
    }
   ],
   "source": [
    "arr_empty = np.empty((4, 6))\n",
    "\n",
    "\n",
    "print(arr_empty)\n",
    "print(arr_empty.dtype)"
   ]
  },
  {
   "cell_type": "markdown",
   "metadata": {},
   "source": [
    "## ***np.empty_like(arr)  --> Creates array like array passed and initialize it with garbage values***"
   ]
  },
  {
   "cell_type": "code",
   "execution_count": 8,
   "metadata": {},
   "outputs": [
    {
     "name": "stdout",
     "output_type": "stream",
     "text": [
      "[                   0                    0 -1709503944649611374\n",
      "      140290460588144      140290438886224  6884689792621568439\n",
      "      140290460580000      140290438886224  6205697083158548555\n",
      "      140291214605360]\n",
      "int64\n"
     ]
    }
   ],
   "source": [
    "arr_like = np.empty_like(arr)\n",
    "\n",
    "print(arr_like)\n",
    "print(arr_like.dtype)"
   ]
  },
  {
   "cell_type": "markdown",
   "metadata": {},
   "source": [
    "\n",
    "\n",
    "\n",
    "\n",
    "## ***np.identity(10)   -->  Creates identity matrix of size 10*10   ,   Dtype  -> float64***\n",
    "\n",
    "\n",
    "\n",
    "\n"
   ]
  },
  {
   "cell_type": "code",
   "execution_count": 9,
   "metadata": {},
   "outputs": [
    {
     "name": "stdout",
     "output_type": "stream",
     "text": [
      "[[1. 0. 0. 0. 0. 0. 0. 0. 0. 0.]\n",
      " [0. 1. 0. 0. 0. 0. 0. 0. 0. 0.]\n",
      " [0. 0. 1. 0. 0. 0. 0. 0. 0. 0.]\n",
      " [0. 0. 0. 1. 0. 0. 0. 0. 0. 0.]\n",
      " [0. 0. 0. 0. 1. 0. 0. 0. 0. 0.]\n",
      " [0. 0. 0. 0. 0. 1. 0. 0. 0. 0.]\n",
      " [0. 0. 0. 0. 0. 0. 1. 0. 0. 0.]\n",
      " [0. 0. 0. 0. 0. 0. 0. 1. 0. 0.]\n",
      " [0. 0. 0. 0. 0. 0. 0. 0. 1. 0.]\n",
      " [0. 0. 0. 0. 0. 0. 0. 0. 0. 1.]]\n",
      "(10, 10)\n",
      "float64\n"
     ]
    }
   ],
   "source": [
    "arr_Identity_matrix = np.identity(10)\n",
    "\n",
    "print(arr_Identity_matrix)\n",
    "print(arr_Identity_matrix.shape)\n",
    "print(arr_Identity_matrix.dtype)"
   ]
  },
  {
   "cell_type": "code",
   "execution_count": 10,
   "metadata": {},
   "outputs": [
    {
     "name": "stdout",
     "output_type": "stream",
     "text": [
      "[10 11 12 13 14 15 16 17 18 19]\n",
      "[10 12 18 12 12]\n"
     ]
    }
   ],
   "source": [
    "y = np.arange(10, 20, 1)  # From 10 to 20 in step of 1\n",
    "n = np.random.randint(10, 20, 5)  # 5 Random numbers from between 10 to 20\n",
    "\n",
    "print(y)\n",
    "print(n)"
   ]
  },
  {
   "cell_type": "markdown",
   "metadata": {},
   "source": [
    "#                                        Resizing  Array"
   ]
  },
  {
   "cell_type": "code",
   "execution_count": 11,
   "metadata": {},
   "outputs": [
    {
     "name": "stdout",
     "output_type": "stream",
     "text": [
      "[[ 0  1  2  3  4  5  6  7  8  9 10]\n",
      " [11 12 13 14 15 16 17 18 19 20 21]\n",
      " [22 23 24 25 26 27 28 29 30 31 32]]\n",
      "\n",
      "\n",
      "\n",
      "[ 0  1  2  3  4  5  6  7  8  9 10 11 12 13 14 15 16 17 18 19 20 21 22 23\n",
      " 24 25 26 27 28 29 30 31 32]\n",
      "\n",
      "\n",
      "\n"
     ]
    }
   ],
   "source": [
    "arr = np.arange(33)\n",
    "arr = arr.reshape(3, 11)           # It reshapes the 1d-array to form 2d-array\n",
    "                                   # Three rows containing 11 elements each\n",
    "\n",
    "print(arr)\n",
    "print(\"\\n\\n\")\n",
    "\n",
    "arr = arr.ravel()                # Change back to 1d-array\n",
    "print(arr)                       # arr.ravel() doesnot change original array it returns new array\n",
    "print(\"\\n\\n\")"
   ]
  },
  {
   "cell_type": "markdown",
   "metadata": {},
   "source": [
    "# Axis in numpy is like dimensions in Matrix\n",
    " # 2  3  4\n",
    "#                                                       4  5  6\n",
    "  #                                                     7  8  9\n",
    "  \n",
    "  \n",
    "\n",
    "  # axis=0  --> Horizontal Part\n",
    "   # axis=1  --> Vertical Part "
   ]
  },
  {
   "cell_type": "code",
   "execution_count": 12,
   "metadata": {},
   "outputs": [
    {
     "name": "stdout",
     "output_type": "stream",
     "text": [
      "[[1 2 3]\n",
      " [3 4 5]\n",
      " [5 6 7]]\n",
      "\n",
      "\n",
      "[ 9 12 15]\n",
      "\n",
      "\n",
      "[ 6 12 18]\n"
     ]
    }
   ],
   "source": [
    "x = arr_2D.sum(axis=0)      # Sum of column ( Horizontal )\n",
    "\n",
    "print(arr_2D)\n",
    "print(\"\\n\")\n",
    "print(x)\n",
    "print(\"\\n\")\n",
    "\n",
    "x = arr_2D.sum(axis=1)      # Sum of rows ( Vertical )\n",
    "print(x)"
   ]
  },
  {
   "cell_type": "code",
   "execution_count": 13,
   "metadata": {},
   "outputs": [
    {
     "name": "stdout",
     "output_type": "stream",
     "text": [
      "[[1 2 3]\n",
      " [3 4 5]\n",
      " [5 6 7]] \n",
      "\n",
      "[[1 3 5]\n",
      " [2 4 6]\n",
      " [3 5 7]]\n",
      "\n",
      "2\n",
      "72\n"
     ]
    }
   ],
   "source": [
    "print(f\"{arr_2D} \\n\")\n",
    "print(f\"{arr_2D.T}\\n\")           # Arr.T    --> Transposes the array\n",
    "print(arr_2D.ndim)     #  Returns number of dimensions\n",
    "print(arr_2D.nbytes)     #  Returns Total number of Bytes consumed by array"
   ]
  },
  {
   "cell_type": "code",
   "execution_count": 14,
   "metadata": {},
   "outputs": [
    {
     "name": "stdout",
     "output_type": "stream",
     "text": [
      "32\n",
      "0\n",
      "[2 2 2]\n",
      "[2 2 2]\n"
     ]
    }
   ],
   "source": [
    "\n",
    "print(arr.argmax())    #  Returns index of max element  in 1 Dimension Array\n",
    "print(arr.argmin())    #  Returns index of min element  in 1 Dimension Array\n",
    "\n",
    "print(arr_2D.argmax(axis=0))    # Returns index\n",
    "print(arr_2D.argmax(axis=1))    # Returns index"
   ]
  },
  {
   "cell_type": "markdown",
   "metadata": {},
   "source": [
    "# ***Operations in Array***"
   ]
  },
  {
   "cell_type": "code",
   "execution_count": 15,
   "metadata": {},
   "outputs": [
    {
     "name": "stdout",
     "output_type": "stream",
     "text": [
      "[0 1 2 3 4 5 6 7 8 9]\n",
      "\n",
      "\n",
      "[ 8  9 10 11 12 13 14 15 16 17]\n",
      "\n",
      "\n",
      "[ 8 10 12 14 16 18 20 22 24 26]\n",
      "\n",
      "\n",
      "[  0   9  20  33  48  65  84 105 128 153]\n",
      "\n",
      "\n",
      "[0.         1.         1.41421356 1.73205081 2.         2.23606798\n",
      " 2.44948974 2.64575131 2.82842712 3.        ]\n",
      "\n",
      "\n",
      "[-0.13235175 -0.98803162 -0.42818267  0.74511316  0.85090352 -0.26237485\n",
      " -0.99975517 -0.30481062  0.82682868  0.77389068]\n",
      "\n",
      "\n",
      "[25 30 35 40 45 50 55 60 65 70]\n",
      "\n",
      "\n",
      "70\n",
      "25\n",
      "475\n",
      "\n",
      "\n",
      "(array([0, 1, 2, 3, 4, 5, 6, 7, 8, 9]),)\n"
     ]
    }
   ],
   "source": [
    "\n",
    "x = np.arange(10)\n",
    "y = np.arange(8, 18, 1)  # Random numbers From 8 to 18 in step of 1\n",
    "\n",
    "\n",
    "print(x)\n",
    "print(\"\\n\")\n",
    "\n",
    "print(y)\n",
    "print(\"\\n\")\n",
    "\n",
    "print(x+y)      # Addition of array\n",
    "print(\"\\n\")\n",
    "\n",
    "print(x*y)      # Multiplication of array\n",
    "print(\"\\n\")\n",
    "\n",
    "print(np.sqrt(x))     # Finding Square root\n",
    "print(\"\\n\")\n",
    "\n",
    "x = x+5           #         Adding 5 to each element\n",
    "x = x*5           #         Multiplying 5 to each element of array\n",
    "\n",
    "print(np.sin(x))        #       Sin , Cos , tan , log\n",
    "print(\"\\n\")\n",
    "\n",
    "print(np.sort(x))       #       Sorting an array\n",
    "print(\"\\n\")\n",
    "\n",
    "\n",
    "print(x.max())\n",
    "print(x.min())\n",
    "print(x.sum())\n",
    "\n",
    "z = np.where(x > 8)  # Returns index of condition\n",
    "print(\"\\n\")\n",
    "print(z)\n"
   ]
  },
  {
   "cell_type": "markdown",
   "metadata": {},
   "source": [
    "# Some Important Operations on numpy Array"
   ]
  },
  {
   "cell_type": "code",
   "execution_count": 16,
   "metadata": {},
   "outputs": [
    {
     "name": "stdout",
     "output_type": "stream",
     "text": [
      "[[25 30 35 40 45 50 55 60 65 70]\n",
      " [ 8  9 10 11 12 13 14 15 16 17]]\n",
      "\n",
      "[25 30 35 40 45 50 55 60 65 70  8  9 10 11 12 13 14 15 16 17]\n",
      "\n",
      "[[25  8]\n",
      " [30  9]\n",
      " [35 10]\n",
      " [40 11]\n",
      " [45 12]\n",
      " [50 13]\n",
      " [55 14]\n",
      " [60 15]\n",
      " [65 16]\n",
      " [70 17]]\n",
      "\n",
      "[]\n",
      "\n",
      "[25 30 35 40 45 50 55 60 65 70]\n",
      "\n",
      "[33 39 45 51 57 63 69 75 81 87]\n",
      "\n",
      "[475 125]\n",
      "\n",
      "47.5\n",
      "\n",
      "14.361406616345072\n",
      "\n",
      "47.5\n",
      "\n",
      "\n"
     ]
    }
   ],
   "source": [
    "#                   *****       Joining Numpy Arrays        *****\n",
    "\n",
    "n1 = np.vstack((x, y))                   # Creates vertical Stack\n",
    "n2 = np.hstack((x, y))                   # Creates Horizontal Stack\n",
    "n3 = np.column_stack((x, y))             # Creates Stack of columns\n",
    "\n",
    "\n",
    "#                   *****       Mathematical functions      *****\n",
    "\n",
    "n4 = np.intersect1d(x, y)  # .             Intersection of two arrays\n",
    "n5 = np.setdiff1d(x, y)  # .           Difference of two arrays  -->  x-y\n",
    "\n",
    "n6 = np.sum((x, y), axis=0)  # .                Adding Column Elements\n",
    "n7 = np.sum((x, y), axis=1)  # .                Adding Row Elements\n",
    "\n",
    "n8 = np.mean(x)  # .                Mean of x\n",
    "n9 = np.std(x)  # .                Standard deviation of x\n",
    "n10 = np.median(x)  # .                Median of x\n",
    "\n",
    "print(f\"{n1}\\n\\n{n2}\\n\\n{n3}\\n\\n{n4}\\n\\n{n5}\\n\\n{n6}\\n\\n{n7}\\n\\n{n8}\\n\\n{n9}\\n\\n{n10}\\n\\n\")\n"
   ]
  },
  {
   "cell_type": "code",
   "execution_count": null,
   "metadata": {},
   "outputs": [],
   "source": []
  }
 ],
 "metadata": {
  "kernelspec": {
   "display_name": "Python 3",
   "language": "python",
   "name": "python3"
  },
  "language_info": {
   "codemirror_mode": {
    "name": "ipython",
    "version": 3
   },
   "file_extension": ".py",
   "mimetype": "text/x-python",
   "name": "python",
   "nbconvert_exporter": "python",
   "pygments_lexer": "ipython3",
   "version": "3.8.5"
  }
 },
 "nbformat": 4,
 "nbformat_minor": 4
}
